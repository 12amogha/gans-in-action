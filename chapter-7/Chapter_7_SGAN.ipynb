{
 "cells": [
  {
   "cell_type": "markdown",
   "metadata": {},
   "source": [
    "# Chapter 7: Semi-Supervised GAN"
   ]
  },
  {
   "cell_type": "code",
   "execution_count": 1,
   "metadata": {},
   "outputs": [
    {
     "name": "stderr",
     "output_type": "stream",
     "text": [
      "/anaconda3/lib/python3.6/site-packages/h5py/__init__.py:36: FutureWarning: Conversion of the second argument of issubdtype from `float` to `np.floating` is deprecated. In future, it will be treated as `np.float64 == np.dtype(float).type`.\n",
      "  from ._conv import register_converters as _register_converters\n",
      "Using TensorFlow backend.\n"
     ]
    }
   ],
   "source": [
    "%matplotlib inline\n",
    "\n",
    "import matplotlib.pyplot as plt\n",
    "import numpy as np\n",
    "\n",
    "from keras import backend as K\n",
    "\n",
    "from keras.datasets import mnist\n",
    "from keras.layers import (Activation, BatchNormalization, Concatenate, Dense,\n",
    "                          Dropout, Flatten, Input, Lambda, Reshape)\n",
    "from keras.layers.advanced_activations import LeakyReLU\n",
    "from keras.layers.convolutional import Conv2D, Conv2DTranspose\n",
    "from keras.models import Model, Sequential\n",
    "from keras.optimizers import Adam\n",
    "from keras.utils import to_categorical"
   ]
  },
  {
   "cell_type": "markdown",
   "metadata": {},
   "source": [
    "## Dataset"
   ]
  },
  {
   "cell_type": "code",
   "execution_count": 2,
   "metadata": {},
   "outputs": [],
   "source": [
    "class Dataset:\n",
    "    def __init__(self, num_labeled):\n",
    "\n",
    "        # Number labeled examples to use for training\n",
    "        self.num_labeled = num_labeled\n",
    "\n",
    "        # Load the MNIST dataset\n",
    "        (self.x_train, self.y_train), (self.x_test,\n",
    "                                       self.y_test) = mnist.load_data()\n",
    "\n",
    "        def preprocess_imgs(x):\n",
    "            # Rescale [0, 255] grayscale pixel values to [-1, 1]\n",
    "            x = (x.astype(np.float32) - 127.5) / 127.5\n",
    "            # Expand image dimensions to width x height x channels\n",
    "            x = np.expand_dims(x, axis=3)\n",
    "            return x\n",
    "\n",
    "        def preprocess_labels(y):\n",
    "            return y.reshape(-1, 1)\n",
    "\n",
    "        # Training data\n",
    "        self.x_train = preprocess_imgs(self.x_train)\n",
    "        self.y_train = preprocess_labels(self.y_train)\n",
    "\n",
    "        # Testing data\n",
    "        self.x_test = preprocess_imgs(self.x_test)\n",
    "        self.y_test = preprocess_labels(self.y_test)\n",
    "\n",
    "    def batch_labeled(self, batch_size):\n",
    "        # Get a random batch of labeled images and their labels\n",
    "        idx = np.random.randint(0, self.num_labeled, batch_size)\n",
    "        imgs = self.x_train[idx]\n",
    "        labels = self.y_train[idx]\n",
    "        return imgs, labels\n",
    "\n",
    "    def batch_unlabeled(self, batch_size):\n",
    "        # Get a random batch of unlabeled images\n",
    "        idx = np.random.randint(self.num_labeled, self.x_train.shape[0],\n",
    "                                batch_size)\n",
    "        imgs = self.x_train[idx]\n",
    "        return imgs\n",
    "\n",
    "    def training_set(self):\n",
    "        x_train = self.x_train[range(self.num_labeled)]\n",
    "        y_train = self.y_train[range(self.num_labeled)]\n",
    "        return x_train, y_train\n",
    "\n",
    "    def test_set(self):\n",
    "        return self.x_test, self.y_test"
   ]
  },
  {
   "cell_type": "code",
   "execution_count": 3,
   "metadata": {},
   "outputs": [],
   "source": [
    "# Number of labeled examples to use (rest will be used as unlabeled)\n",
    "num_labeled = 100\n",
    "\n",
    "dataset = Dataset(num_labeled)"
   ]
  },
  {
   "cell_type": "markdown",
   "metadata": {},
   "source": [
    "# Semi-Supervied GAN"
   ]
  },
  {
   "cell_type": "code",
   "execution_count": 4,
   "metadata": {},
   "outputs": [],
   "source": [
    "img_rows = 28\n",
    "img_cols = 28\n",
    "channels = 1\n",
    "\n",
    "# Input image dimensions\n",
    "img_shape = (img_rows, img_cols, channels)\n",
    "\n",
    "# Size of the noise vector, used as input to the Generator\n",
    "z_dim = 100\n",
    "\n",
    "# Number of classes in the dataset\n",
    "num_classes = 10"
   ]
  },
  {
   "cell_type": "markdown",
   "metadata": {},
   "source": [
    "## Generator"
   ]
  },
  {
   "cell_type": "code",
   "execution_count": 5,
   "metadata": {},
   "outputs": [],
   "source": [
    "def build_generator(z_dim):\n",
    "\n",
    "    model = Sequential()\n",
    "\n",
    "    # Reshape input into 7x7x256 tensor via a fully connected layer\n",
    "    model.add(Dense(256 * 7 * 7, input_dim=z_dim))\n",
    "    model.add(Reshape((7, 7, 256)))\n",
    "\n",
    "    # Transposed convolution layer, from 7x7x256 into 14x14x128 tensor\n",
    "    model.add(Conv2DTranspose(128, kernel_size=3, strides=2, padding='same'))\n",
    "\n",
    "    # Batch normalization\n",
    "    model.add(BatchNormalization())\n",
    "\n",
    "    # Leaky ReLU activation\n",
    "    model.add(LeakyReLU(alpha=0.01))\n",
    "\n",
    "    # Transposed convolution layer, from 14x14x128 to 14x14x64 tensor\n",
    "    model.add(Conv2DTranspose(64, kernel_size=3, strides=1, padding='same'))\n",
    "\n",
    "    # Batch normalization\n",
    "    model.add(BatchNormalization())\n",
    "\n",
    "    # Leaky ReLU activation\n",
    "    model.add(LeakyReLU(alpha=0.01))\n",
    "\n",
    "    # Transposed convolution layer, from 14x14x64 to 28x28x1 tensor\n",
    "    model.add(Conv2DTranspose(1, kernel_size=3, strides=2, padding='same'))\n",
    "\n",
    "    # Output layer with tanh activation\n",
    "    model.add(Activation('tanh'))\n",
    "\n",
    "    return model"
   ]
  },
  {
   "cell_type": "markdown",
   "metadata": {},
   "source": [
    "## Discriminator"
   ]
  },
  {
   "cell_type": "code",
   "execution_count": 6,
   "metadata": {},
   "outputs": [],
   "source": [
    "def build_discriminator_net(img_shape):\n",
    "\n",
    "    model = Sequential()\n",
    "\n",
    "    # Convolutional layer, from 28x28x1 into 14x14x32 tensor\n",
    "    model.add(\n",
    "        Conv2D(32,\n",
    "               kernel_size=3,\n",
    "               strides=2,\n",
    "               input_shape=img_shape,\n",
    "               padding='same'))\n",
    "\n",
    "    # Leaky ReLU activation\n",
    "    model.add(LeakyReLU(alpha=0.01))\n",
    "\n",
    "    # Convolutional layer, from 14x14x32 into 7x7x64 tensor\n",
    "    model.add(\n",
    "        Conv2D(64,\n",
    "               kernel_size=3,\n",
    "               strides=2,\n",
    "               input_shape=img_shape,\n",
    "               padding='same'))\n",
    "\n",
    "    # Batch normalization\n",
    "    model.add(BatchNormalization())\n",
    "\n",
    "    # Leaky ReLU activation\n",
    "    model.add(LeakyReLU(alpha=0.01))\n",
    "\n",
    "    # Convolutional layer, from 7x7x64 tensor into 3x3x128 tensor\n",
    "    model.add(\n",
    "        Conv2D(128,\n",
    "               kernel_size=3,\n",
    "               strides=2,\n",
    "               input_shape=img_shape,\n",
    "               padding='same'))\n",
    "\n",
    "    # Batch normalization\n",
    "    model.add(BatchNormalization())\n",
    "\n",
    "    # Leaky ReLU activation\n",
    "    model.add(LeakyReLU(alpha=0.01))\n",
    "\n",
    "    # Droupout\n",
    "    model.add(Dropout(0.5))\n",
    "\n",
    "    # Flatten the tensor\n",
    "    model.add(Flatten())\n",
    "\n",
    "    # Fully connected layer with num_classes neurons\n",
    "    model.add(Dense(num_classes))\n",
    "\n",
    "    return model"
   ]
  },
  {
   "cell_type": "code",
   "execution_count": 7,
   "metadata": {},
   "outputs": [],
   "source": [
    "def build_discriminator_supervised(discriminator_net):\n",
    "\n",
    "    model = Sequential()\n",
    "\n",
    "    model.add(discriminator_net)\n",
    "\n",
    "    # Softmax activation, giving predicted probability distribution over the real classes\n",
    "    model.add(Activation('softmax'))\n",
    "\n",
    "    return model"
   ]
  },
  {
   "cell_type": "code",
   "execution_count": 8,
   "metadata": {},
   "outputs": [],
   "source": [
    "def build_discriminator_unsupervised(discriminator_net):\n",
    "\n",
    "    model = Sequential()\n",
    "\n",
    "    model.add(discriminator_net)\n",
    "\n",
    "    def predict(x):\n",
    "        # Transform distribution over real classes into a binary real-vs-fake probability\n",
    "        prediction = 1.0 - (1.0 /\n",
    "                            (K.sum(K.exp(x), axis=-1, keepdims=True) + 1.0))\n",
    "        return prediction\n",
    "\n",
    "    # 'Real-vs-fake' output neuron defined above\n",
    "    model.add(Lambda(predict))\n",
    "\n",
    "    return model"
   ]
  },
  {
   "cell_type": "markdown",
   "metadata": {},
   "source": [
    "## Build the Model"
   ]
  },
  {
   "cell_type": "code",
   "execution_count": 9,
   "metadata": {},
   "outputs": [],
   "source": [
    "def build_gan(generator, discriminator):\n",
    "\n",
    "    model = Sequential()\n",
    "\n",
    "    # Combined Generator -> Discriminator model\n",
    "    model.add(generator)\n",
    "    model.add(discriminator)\n",
    "\n",
    "    return model"
   ]
  },
  {
   "cell_type": "markdown",
   "metadata": {},
   "source": [
    "### Discriminator"
   ]
  },
  {
   "cell_type": "code",
   "execution_count": 10,
   "metadata": {},
   "outputs": [],
   "source": [
    "# Core Discriminator network:\n",
    "# These layers are shared during supervised and unsupervised training\n",
    "discriminator_net = build_discriminator_net(img_shape)\n",
    "\n",
    "# Build & compile the Discriminator for supervised training\n",
    "discriminator_supervised = build_discriminator_supervised(discriminator_net)\n",
    "discriminator_supervised.compile(loss='categorical_crossentropy',\n",
    "                                 metrics=['accuracy'],\n",
    "                                 optimizer=Adam())\n",
    "\n",
    "# Build & compile the Discriminator for unsupervised training\n",
    "discriminator_unsupervised = build_discriminator_unsupervised(discriminator_net)\n",
    "discriminator_unsupervised.compile(loss='binary_crossentropy',\n",
    "                                   optimizer=Adam())"
   ]
  },
  {
   "cell_type": "markdown",
   "metadata": {},
   "source": [
    "### Generator"
   ]
  },
  {
   "cell_type": "code",
   "execution_count": 11,
   "metadata": {},
   "outputs": [],
   "source": [
    "# Build the Generator\n",
    "generator = build_generator(z_dim)\n",
    "\n",
    "# Keep Discriminator’s parameters constant for Generator training\n",
    "discriminator_unsupervised.trainable = False\n",
    "\n",
    "# Build and compile GAN model with fixed Discriminator to train the Generator\n",
    "# Note that we are using the Discriminator version with unsupervised output\n",
    "gan = build_gan(generator, discriminator_unsupervised)\n",
    "gan.compile(loss='binary_crossentropy', optimizer=Adam())"
   ]
  },
  {
   "cell_type": "markdown",
   "metadata": {},
   "source": [
    "## Training"
   ]
  },
  {
   "cell_type": "code",
   "execution_count": 12,
   "metadata": {},
   "outputs": [],
   "source": [
    "accuracies = []\n",
    "supervised_losses = []\n",
    "iteration_checkpoints = []\n",
    "\n",
    "\n",
    "def train(iterations, batch_size, sample_interval):\n",
    "\n",
    "    # Labels for real images: all ones\n",
    "    real = np.ones((batch_size, 1))\n",
    "\n",
    "    # Labels for fake images: all zeros\n",
    "    fake = np.zeros((batch_size, 1))\n",
    "\n",
    "    for iteration in range(iterations):\n",
    "\n",
    "        # -------------------------\n",
    "        #  Train the Discriminator\n",
    "        # -------------------------\n",
    "\n",
    "        # Get labeled examples\n",
    "        imgs, labels = dataset.batch_labeled(batch_size)\n",
    "\n",
    "        # One-hot encode labels\n",
    "        labels = to_categorical(labels, num_classes=num_classes)\n",
    "\n",
    "        # Get unlabeled examples\n",
    "        imgs_unlabeled = dataset.batch_unlabeled(batch_size)\n",
    "\n",
    "        # Generate a batch of fake images\n",
    "        z = np.random.normal(0, 1, (batch_size, z_dim))\n",
    "        gen_imgs = generator.predict(z)\n",
    "\n",
    "        # Train on real labeled examples\n",
    "        d_loss_supervised, accuracy = discriminator_supervised.train_on_batch(\n",
    "            imgs, labels)\n",
    "\n",
    "        # Train on real unlabeled examples\n",
    "        d_loss_real = discriminator_unsupervised.train_on_batch(\n",
    "            imgs_unlabeled, real)\n",
    "\n",
    "        # Train on fake examples\n",
    "        d_loss_fake = discriminator_unsupervised.train_on_batch(gen_imgs, fake)\n",
    "\n",
    "        d_loss_unsupervised = 0.5 * np.add(d_loss_real, d_loss_fake)\n",
    "\n",
    "        # ---------------------\n",
    "        #  Train the Generator\n",
    "        # ---------------------\n",
    "\n",
    "        # Generate a batch of fake images\n",
    "        z = np.random.normal(0, 1, (batch_size, z_dim))\n",
    "        gen_imgs = generator.predict(z)\n",
    "\n",
    "        # Train Generator\n",
    "        g_loss = gan.train_on_batch(z, np.ones((batch_size, 1)))\n",
    "\n",
    "        if (iteration + 1) % sample_interval == 0:\n",
    "\n",
    "            # Save Discriminator supervised classification loss and accuracy to be plotted after training\n",
    "            supervised_losses.append(d_loss_supervised)\n",
    "            accuracies.append(accuracy)\n",
    "            iteration_checkpoints.append(iteration + 1)\n",
    "\n",
    "            # Output training progress\n",
    "            print(\n",
    "                \"%d [D loss supervised: %.4f, acc.: %.2f%%] [D loss unsupervised: %.4f] [G loss: %f]\"\n",
    "                % (iteration + 1, d_loss_supervised, 100 * accuracy,\n",
    "                   d_loss_unsupervised, g_loss))"
   ]
  },
  {
   "cell_type": "markdown",
   "metadata": {},
   "source": [
    "## Train the Model and Inspect Output"
   ]
  },
  {
   "cell_type": "markdown",
   "metadata": {},
   "source": [
    "Note that the `'Discrepancy between trainable weights and collected trainable'` warning from Keras is expected. It is by design: The Generator's trainable parameters are intentionally held constant during Discriminator training, and vice versa."
   ]
  },
  {
   "cell_type": "code",
   "execution_count": 13,
   "metadata": {
    "scrolled": true
   },
   "outputs": [
    {
     "name": "stderr",
     "output_type": "stream",
     "text": [
      "/anaconda3/lib/python3.6/site-packages/keras/engine/training.py:490: UserWarning: Discrepancy between trainable weights and collected trainable weights, did you set `model.trainable` without calling `model.compile` after ?\n",
      "  'Discrepancy between trainable weights and collected trainable'\n"
     ]
    },
    {
     "name": "stdout",
     "output_type": "stream",
     "text": [
      "10 [D loss supervised: 1.3281, acc.: 68.75%] [D loss unsupervised: 0.1640] [G loss: 2.235326]\n",
      "20 [D loss supervised: 0.4177, acc.: 90.62%] [D loss unsupervised: 0.0663] [G loss: 0.226237]\n",
      "30 [D loss supervised: 0.1233, acc.: 96.88%] [D loss unsupervised: 0.0855] [G loss: 0.787732]\n",
      "40 [D loss supervised: 0.1166, acc.: 100.00%] [D loss unsupervised: 0.0554] [G loss: 1.630061]\n",
      "50 [D loss supervised: 0.0349, acc.: 100.00%] [D loss unsupervised: 0.0100] [G loss: 2.942438]\n",
      "60 [D loss supervised: 0.0170, acc.: 100.00%] [D loss unsupervised: 0.0097] [G loss: 3.081861]\n",
      "70 [D loss supervised: 0.0616, acc.: 96.88%] [D loss unsupervised: 0.0181] [G loss: 0.205878]\n",
      "80 [D loss supervised: 0.0124, acc.: 100.00%] [D loss unsupervised: 0.0039] [G loss: 0.215728]\n"
     ]
    }
   ],
   "source": [
    "# Set hyperparameters\n",
    "iterations = 8000\n",
    "batch_size = 32\n",
    "sample_interval = 800\n",
    "\n",
    "# Train the SGAN for the specified number of iterations\n",
    "train(iterations, batch_size, sample_interval)"
   ]
  },
  {
   "cell_type": "code",
   "execution_count": 14,
   "metadata": {},
   "outputs": [
    {
     "data": {
      "text/plain": [
       "<matplotlib.legend.Legend at 0xb30084cf8>"
      ]
     },
     "execution_count": 14,
     "metadata": {},
     "output_type": "execute_result"
    },
    {
     "data": {
      "image/png": "[encoded data removed]",
      "text/plain": [
       "<Figure size 1080x360 with 1 Axes>"
      ]
     },
     "metadata": {},
     "output_type": "display_data"
    }
   ],
   "source": [
    "losses = np.array(supervised_losses)\n",
    "\n",
    "# Plot Discriminator supervised loss\n",
    "plt.figure(figsize=(15, 5))\n",
    "plt.plot(iteration_checkpoints, losses, label=\"Discriminator loss\")\n",
    "\n",
    "plt.xticks(iteration_checkpoints, rotation=90)\n",
    "\n",
    "plt.title(\"Discriminator – Supervised Loss\")\n",
    "plt.xlabel(\"Iteration\")\n",
    "plt.ylabel(\"Loss\")\n",
    "plt.legend()"
   ]
  },
  {
   "cell_type": "code",
   "execution_count": 15,
   "metadata": {},
   "outputs": [
    {
     "data": {
      "text/plain": [
       "<matplotlib.legend.Legend at 0xb30107c18>"
      ]
     },
     "execution_count": 15,
     "metadata": {},
     "output_type": "execute_result"
    },
    {
     "data": {
      "image/png": "[encoded data removed]",
      "text/plain": [
       "<Figure size 1080x360 with 1 Axes>"
      ]
     },
     "metadata": {},
     "output_type": "display_data"
    }
   ],
   "source": [
    "accuracies = np.array(accuracies)\n",
    "\n",
    "# Plot Discriminator accuracy\n",
    "plt.figure(figsize=(15, 5))\n",
    "plt.plot(iteration_checkpoints, accuracies, label=\"Discriminator accuracy\")\n",
    "\n",
    "plt.xticks(iteration_checkpoints, rotation=90)\n",
    "plt.yticks(range(0, 100, 5))\n",
    "\n",
    "plt.title(\"Discriminator – Supervised Classification Accuracy\")\n",
    "plt.xlabel(\"Iteration\")\n",
    "plt.ylabel(\"Accuracy (%)\")\n",
    "plt.legend()"
   ]
  },
  {
   "cell_type": "markdown",
   "metadata": {},
   "source": [
    "## SGAN Classifier – Training and Test Accuracy "
   ]
  },
  {
   "cell_type": "code",
   "execution_count": 16,
   "metadata": {},
   "outputs": [
    {
     "name": "stdout",
     "output_type": "stream",
     "text": [
      "100/100 [==============================] - 0s 2ms/step\n",
      "Training Accuracy: 100.00%\n"
     ]
    }
   ],
   "source": [
    "x, y = dataset.training_set()\n",
    "y = to_categorical(y, num_classes=num_classes)\n",
    "\n",
    "# Compute classification accuracy on the training set\n",
    "_, accuracy = discriminator_supervised.evaluate(x, y)\n",
    "print(\"Training Accuracy: %.2f%%\" % (100 * accuracy))"
   ]
  },
  {
   "cell_type": "code",
   "execution_count": 17,
   "metadata": {},
   "outputs": [
    {
     "name": "stdout",
     "output_type": "stream",
     "text": [
      "10000/10000 [==============================] - 1s 92us/step\n",
      "Test Accuracy: 70.13%\n"
     ]
    }
   ],
   "source": [
    "x, y = dataset.test_set()\n",
    "y = to_categorical(y, num_classes=num_classes)\n",
    "\n",
    "# Compute classification accuracy on the test set\n",
    "_, accuracy = discriminator_supervised.evaluate(x, y)\n",
    "print(\"Test Accuracy: %.2f%%\" % (100 * accuracy))"
   ]
  },
  {
   "cell_type": "markdown",
   "metadata": {},
   "source": [
    "---"
   ]
  },
  {
   "cell_type": "markdown",
   "metadata": {},
   "source": [
    "# Fully-Supervised Classifier"
   ]
  },
  {
   "cell_type": "code",
   "execution_count": 18,
   "metadata": {},
   "outputs": [],
   "source": [
    "# Fully supervised classifier with the same network architecture as the SGAN Discriminator\n",
    "mnist_classifier = build_discriminator_supervised(\n",
    "    build_discriminator_net(img_shape))\n",
    "mnist_classifier.compile(loss='categorical_crossentropy',\n",
    "                         metrics=['accuracy'],\n",
    "                         optimizer=Adam())"
   ]
  },
  {
   "cell_type": "code",
   "execution_count": 19,
   "metadata": {},
   "outputs": [
    {
     "name": "stdout",
     "output_type": "stream",
     "text": [
      "Epoch 1/50\n",
      "100/100 [==============================] - 1s 8ms/step - loss: 2.8215 - acc: 0.1400\n",
      "Epoch 2/50\n",
      "100/100 [==============================] - 0s 691us/step - loss: 1.2299 - acc: 0.6200\n",
      "Epoch 3/50\n",
      "100/100 [==============================] - 0s 688us/step - loss: 0.5447 - acc: 0.8700\n",
      "Epoch 4/50\n",
      "100/100 [==============================] - 0s 700us/step - loss: 0.4323 - acc: 0.8700\n",
      "Epoch 5/50\n",
      "100/100 [==============================] - 0s 713us/step - loss: 0.2915 - acc: 0.9400\n",
      "Epoch 6/50\n",
      "100/100 [==============================] - 0s 705us/step - loss: 0.1856 - acc: 0.9800\n",
      "Epoch 7/50\n",
      "100/100 [==============================] - 0s 735us/step - loss: 0.1303 - acc: 0.9800\n",
      "Epoch 8/50\n",
      "100/100 [==============================] - 0s 726us/step - loss: 0.0844 - acc: 0.9900\n",
      "Epoch 9/50\n",
      "100/100 [==============================] - 0s 705us/step - loss: 0.0855 - acc: 0.9900\n",
      "Epoch 10/50\n",
      "100/100 [==============================] - 0s 738us/step - loss: 0.0650 - acc: 1.0000\n",
      "Epoch 11/50\n",
      "100/100 [==============================] - 0s 723us/step - loss: 0.0436 - acc: 0.9900\n",
      "Epoch 12/50\n",
      "100/100 [==============================] - 0s 684us/step - loss: 0.0499 - acc: 0.9900\n",
      "Epoch 13/50\n",
      "100/100 [==============================] - 0s 683us/step - loss: 0.0274 - acc: 1.0000\n",
      "Epoch 14/50\n",
      "100/100 [==============================] - 0s 704us/step - loss: 0.0366 - acc: 0.9900\n",
      "Epoch 15/50\n",
      "100/100 [==============================] - 0s 717us/step - loss: 0.0143 - acc: 1.0000\n",
      "Epoch 16/50\n",
      "100/100 [==============================] - 0s 709us/step - loss: 0.0208 - acc: 1.0000\n",
      "Epoch 17/50\n",
      "100/100 [==============================] - 0s 685us/step - loss: 0.0134 - acc: 1.0000\n",
      "Epoch 18/50\n",
      "100/100 [==============================] - 0s 691us/step - loss: 0.0135 - acc: 1.0000\n",
      "Epoch 19/50\n",
      "100/100 [==============================] - 0s 679us/step - loss: 0.0120 - acc: 1.0000\n",
      "Epoch 20/50\n",
      "100/100 [==============================] - 0s 701us/step - loss: 0.0185 - acc: 1.0000\n",
      "Epoch 21/50\n",
      "100/100 [==============================] - 0s 668us/step - loss: 0.0098 - acc: 1.0000\n",
      "Epoch 22/50\n",
      "100/100 [==============================] - 0s 718us/step - loss: 0.0114 - acc: 1.0000\n",
      "Epoch 23/50\n",
      "100/100 [==============================] - 0s 698us/step - loss: 0.0123 - acc: 1.0000\n",
      "Epoch 24/50\n",
      "100/100 [==============================] - 0s 694us/step - loss: 0.0090 - acc: 1.0000\n",
      "Epoch 25/50\n",
      "100/100 [==============================] - 0s 723us/step - loss: 0.0145 - acc: 1.0000\n",
      "Epoch 26/50\n",
      "100/100 [==============================] - 0s 668us/step - loss: 0.0092 - acc: 1.0000\n",
      "Epoch 27/50\n",
      "100/100 [==============================] - 0s 672us/step - loss: 0.0111 - acc: 1.0000\n",
      "Epoch 28/50\n",
      "100/100 [==============================] - 0s 690us/step - loss: 0.0198 - acc: 1.0000\n",
      "Epoch 29/50\n",
      "100/100 [==============================] - 0s 686us/step - loss: 0.0166 - acc: 1.0000\n",
      "Epoch 30/50\n",
      "100/100 [==============================] - 0s 672us/step - loss: 0.0126 - acc: 1.0000\n",
      "Epoch 31/50\n",
      "100/100 [==============================] - 0s 683us/step - loss: 0.0099 - acc: 1.0000\n",
      "Epoch 32/50\n",
      "100/100 [==============================] - 0s 672us/step - loss: 0.0076 - acc: 1.0000\n",
      "Epoch 33/50\n",
      "100/100 [==============================] - 0s 653us/step - loss: 0.0064 - acc: 1.0000\n",
      "Epoch 34/50\n",
      "100/100 [==============================] - 0s 670us/step - loss: 0.0077 - acc: 1.0000\n",
      "Epoch 35/50\n",
      "100/100 [==============================] - 0s 686us/step - loss: 0.0048 - acc: 1.0000\n",
      "Epoch 36/50\n",
      "100/100 [==============================] - 0s 680us/step - loss: 0.0054 - acc: 1.0000\n",
      "Epoch 37/50\n",
      "100/100 [==============================] - 0s 681us/step - loss: 0.0053 - acc: 1.0000\n",
      "Epoch 38/50\n",
      "100/100 [==============================] - 0s 689us/step - loss: 0.0036 - acc: 1.0000\n",
      "Epoch 39/50\n",
      "100/100 [==============================] - 0s 697us/step - loss: 0.0062 - acc: 1.0000\n",
      "Epoch 40/50\n",
      "100/100 [==============================] - 0s 683us/step - loss: 0.0045 - acc: 1.0000\n",
      "Epoch 41/50\n",
      "100/100 [==============================] - 0s 697us/step - loss: 0.0034 - acc: 1.0000\n",
      "Epoch 42/50\n",
      "100/100 [==============================] - 0s 666us/step - loss: 0.0058 - acc: 1.0000\n",
      "Epoch 43/50\n",
      "100/100 [==============================] - 0s 683us/step - loss: 0.0027 - acc: 1.0000\n",
      "Epoch 44/50\n",
      "100/100 [==============================] - 0s 700us/step - loss: 0.0046 - acc: 1.0000\n",
      "Epoch 45/50\n",
      "100/100 [==============================] - 0s 686us/step - loss: 0.0042 - acc: 1.0000\n",
      "Epoch 46/50\n",
      "100/100 [==============================] - 0s 659us/step - loss: 0.0026 - acc: 1.0000\n",
      "Epoch 47/50\n",
      "100/100 [==============================] - 0s 689us/step - loss: 0.0021 - acc: 1.0000\n",
      "Epoch 48/50\n",
      "100/100 [==============================] - 0s 691us/step - loss: 0.0027 - acc: 1.0000\n",
      "Epoch 49/50\n",
      "100/100 [==============================] - 0s 675us/step - loss: 0.0020 - acc: 1.0000\n",
      "Epoch 50/50\n",
      "100/100 [==============================] - 0s 683us/step - loss: 0.0033 - acc: 1.0000\n"
     ]
    }
   ],
   "source": [
    "imgs, labels = dataset.training_set()\n",
    "\n",
    "# One-hot encode labels\n",
    "labels = to_categorical(labels, num_classes=num_classes)\n",
    "\n",
    "# Train the classifier\n",
    "training = mnist_classifier.fit(x=imgs,\n",
    "                                y=labels,\n",
    "                                batch_size=32,\n",
    "                                epochs=50,\n",
    "                                verbose=1)\n",
    "losses = training.history['loss']\n",
    "accuracies = training.history['acc']"
   ]
  },
  {
   "cell_type": "code",
   "execution_count": 20,
   "metadata": {},
   "outputs": [
    {
     "data": {
      "text/plain": [
       "<matplotlib.legend.Legend at 0xb31f43eb8>"
      ]
     },
     "execution_count": 20,
     "metadata": {},
     "output_type": "execute_result"
    },
    {
     "data": {
      "image/png": "[encoded data removed]",
      "text/plain": [
       "<Figure size 720x360 with 1 Axes>"
      ]
     },
     "metadata": {},
     "output_type": "display_data"
    }
   ],
   "source": [
    "# Plot classification loss\n",
    "plt.figure(figsize=(10, 5))\n",
    "plt.plot(np.array(losses), label=\"Loss\")\n",
    "plt.title(\"Classification Loss\")\n",
    "plt.legend()"
   ]
  },
  {
   "cell_type": "code",
   "execution_count": 21,
   "metadata": {},
   "outputs": [
    {
     "data": {
      "text/plain": [
       "<matplotlib.legend.Legend at 0xb31f2dda0>"
      ]
     },
     "execution_count": 21,
     "metadata": {},
     "output_type": "execute_result"
    },
    {
     "data": {
      "image/png": "[encoded data removed]",
      "text/plain": [
       "<Figure size 720x360 with 1 Axes>"
      ]
     },
     "metadata": {},
     "output_type": "display_data"
    }
   ],
   "source": [
    "# Plot classification accuracy\n",
    "plt.figure(figsize=(10, 5))\n",
    "plt.plot(np.array(accuracies), label=\"Accuracy\")\n",
    "plt.title(\"Classification Accuracy\")\n",
    "plt.legend()"
   ]
  },
  {
   "cell_type": "code",
   "execution_count": 22,
   "metadata": {},
   "outputs": [
    {
     "name": "stdout",
     "output_type": "stream",
     "text": [
      "100/100 [==============================] - 0s 2ms/step\n",
      "Training Accuracy: 100.00%\n"
     ]
    }
   ],
   "source": [
    "x, y = dataset.training_set()\n",
    "y = to_categorical(y, num_classes=num_classes)\n",
    "\n",
    "# Compute classification accuracy on the training set\n",
    "_, accuracy = mnist_classifier.evaluate(x, y)\n",
    "print(\"Training Accuracy: %.2f%%\" % (100 * accuracy))"
   ]
  },
  {
   "cell_type": "code",
   "execution_count": 23,
   "metadata": {},
   "outputs": [
    {
     "name": "stdout",
     "output_type": "stream",
     "text": [
      "10000/10000 [==============================] - 1s 91us/step\n",
      "Test Accuracy: 68.32%\n"
     ]
    }
   ],
   "source": [
    "x, y = dataset.test_set()\n",
    "y = to_categorical(y, num_classes=num_classes)\n",
    "\n",
    "# Compute classification accuracy on the test set\n",
    "_, accuracy = mnist_classifier.evaluate(x, y)\n",
    "print(\"Test Accuracy: %.2f%%\" % (100 * accuracy))"
   ]
  },
  {
   "cell_type": "markdown",
   "metadata": {},
   "source": [
    "---"
   ]
  }
 ],
 "metadata": {
  "kernelspec": {
   "display_name": "Python 3",
   "language": "python",
   "name": "python3"
  },
  "language_info": {
   "codemirror_mode": {
    "name": "ipython",
    "version": 3
   },
   "file_extension": ".py",
   "mimetype": "text/x-python",
   "name": "python",
   "nbconvert_exporter": "python",
   "pygments_lexer": "ipython3",
   "version": "3.6.5"
  }
 },
 "nbformat": 4,
 "nbformat_minor": 2
}
